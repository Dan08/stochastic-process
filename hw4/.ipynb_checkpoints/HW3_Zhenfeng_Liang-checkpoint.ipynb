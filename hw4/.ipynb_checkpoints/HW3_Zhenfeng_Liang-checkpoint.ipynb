{
 "metadata": {
  "name": "",
  "signature": "sha256:12c8268e7d6e55303a3232edf21780010aa55aa2529463d8c0c12ddc9d0928de"
 },
 "nbformat": 3,
 "nbformat_minor": 0,
 "worksheets": [
  {
   "cells": [
    {
     "cell_type": "markdown",
     "metadata": {},
     "source": [
      "# Zhenfeng Liang"
     ]
    },
    {
     "cell_type": "markdown",
     "metadata": {},
     "source": [
      "## Question 1:\n",
      "\n",
      "### Solution:\n",
      "\n",
      "As we know, \n",
      "\n",
      "$$\n",
      "SR = \\frac{r}{\\sigma_{full}} = \\frac{r}{\\sigma_Y\\sqrt{1+n^2}}\n",
      "$$\n",
      "\n",
      "From $r \\approx \\lambda\\sigma_Y$, we know $\\lambda \\approx \\frac{r}{\\sigma_Y}$\n",
      "\n",
      "Therefore, \n",
      "\n",
      "$$\n",
      "\\begin{eqnarray}\n",
      "SR &=& \\frac{r}{\\sigma_Y} \\frac{1}{\\sqrt{1+n^2}} \\\\\n",
      "&=& \\lambda R\n",
      "\\end{eqnarray}\n",
      "$$"
     ]
    },
    {
     "cell_type": "markdown",
     "metadata": {},
     "source": [
      "## Question 2:\n",
      "\n",
      "### Solution:\n",
      "\n",
      "#### (a)\n",
      "\n",
      "The Random Classifier Line in the ROC curve is a linear curve, slope = 1, starting from the original point. So, the true positives of whatever point on that line is equal to the false positives of that point which means this classifier have the same probability to declare it as true no matter whether it is actually true or not. In other words, given a point regardless of its status, the classifier would have a given probability to declare the point as true and false. That is to say, it is a random classifier.\n",
      "\n",
      "\n",
      "#### (b)\n",
      "\n",
      "$$\n",
      "J = tp - fp = \\frac{TP}{TP + FN} - \\frac{FP}{FP + TN} = 0.01TP -0.01FP\n",
      "$$\n",
      "\n",
      "On the ROC curve, $J = 0.01(TP - FP) = 0.01(y - x)$, while $x$ is the $y$ value of the random classifier. \n",
      "So,\n",
      "$$\n",
      "\\begin{eqnarray}\n",
      "J &=& tp - fp \\\\\n",
      "&=& 0.01(y_{ROC} - x_{ROC}) \\\\\n",
      "&=& 0.01(y_{ROC} - y_{Random Classifier}) \n",
      "\\end{eqnarray}\n",
      "$$\n",
      "\n",
      "\n",
      "#### (c)\n",
      "\n",
      "$$\n",
      "J = tp - fp\n",
      "$$\n",
      "\n",
      "So, the distance from the given classifier to the random classifier line,\n",
      "$$\n",
      "dist = J/\\sqrt{2} = \\frac{\\sqrt{2}}{2} (tp - fp) \\neq 1 - \\sqrt{\\frac{1}{2}{(1 - tp)^2 + fp^2}}\n",
      "$$\n",
      "\n",
      "\n",
      "#### (d)\n"
     ]
    },
    {
     "cell_type": "markdown",
     "metadata": {},
     "source": [
      "## Question 3\n",
      "\n",
      "### Solution:\n",
      "\n",
      "In HFT, when L is usually larger than P, which means $\\theta$ would be larger than 0.5.  "
     ]
    },
    {
     "cell_type": "markdown",
     "metadata": {},
     "source": [
      "## Question 2\n",
      "\n",
      "### Solution:\n",
      "\n"
     ]
    },
    {
     "cell_type": "code",
     "collapsed": false,
     "input": [],
     "language": "python",
     "metadata": {},
     "outputs": []
    }
   ],
   "metadata": {}
  }
 ]
}